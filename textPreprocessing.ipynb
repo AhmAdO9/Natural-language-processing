{
 "cells": [
  {
   "cell_type": "code",
   "execution_count": 409,
   "id": "d095b969-b403-47a2-8711-eb828cc265d7",
   "metadata": {},
   "outputs": [],
   "source": [
    "import pandas as pd\n",
    "import re\n",
    "import string\n",
    "import time\n",
    "from textblob import TextBlob\n",
    "from nltk.corpus import stopwords\n",
    "from nltk.tokenize import sent_tokenize\n",
    "from nltk.tokenize import word_tokenize"
   ]
  },
  {
   "cell_type": "code",
   "execution_count": 18,
   "id": "a9d013dd-7188-4c7b-a85b-bc759827a094",
   "metadata": {},
   "outputs": [],
   "source": [
    "df = pd.read_csv('imdbDataset.csv')"
   ]
  },
  {
   "cell_type": "code",
   "execution_count": 19,
   "id": "3cb189ec-4411-4cbd-a18c-07907f6361b9",
   "metadata": {},
   "outputs": [
    {
     "data": {
      "text/html": [
       "<div>\n",
       "<style scoped>\n",
       "    .dataframe tbody tr th:only-of-type {\n",
       "        vertical-align: middle;\n",
       "    }\n",
       "\n",
       "    .dataframe tbody tr th {\n",
       "        vertical-align: top;\n",
       "    }\n",
       "\n",
       "    .dataframe thead th {\n",
       "        text-align: right;\n",
       "    }\n",
       "</style>\n",
       "<table border=\"1\" class=\"dataframe\">\n",
       "  <thead>\n",
       "    <tr style=\"text-align: right;\">\n",
       "      <th></th>\n",
       "      <th>review</th>\n",
       "      <th>sentiment</th>\n",
       "    </tr>\n",
       "  </thead>\n",
       "  <tbody>\n",
       "    <tr>\n",
       "      <th>0</th>\n",
       "      <td>One of the other reviewers has mentioned that ...</td>\n",
       "      <td>positive</td>\n",
       "    </tr>\n",
       "    <tr>\n",
       "      <th>1</th>\n",
       "      <td>A wonderful little production. &lt;br /&gt;&lt;br /&gt;The...</td>\n",
       "      <td>positive</td>\n",
       "    </tr>\n",
       "    <tr>\n",
       "      <th>2</th>\n",
       "      <td>I thought this was a wonderful way to spend ti...</td>\n",
       "      <td>positive</td>\n",
       "    </tr>\n",
       "    <tr>\n",
       "      <th>3</th>\n",
       "      <td>Basically there's a family where a little boy ...</td>\n",
       "      <td>negative</td>\n",
       "    </tr>\n",
       "    <tr>\n",
       "      <th>4</th>\n",
       "      <td>Petter Mattei's \"Love in the Time of Money\" is...</td>\n",
       "      <td>positive</td>\n",
       "    </tr>\n",
       "  </tbody>\n",
       "</table>\n",
       "</div>"
      ],
      "text/plain": [
       "                                              review sentiment\n",
       "0  One of the other reviewers has mentioned that ...  positive\n",
       "1  A wonderful little production. <br /><br />The...  positive\n",
       "2  I thought this was a wonderful way to spend ti...  positive\n",
       "3  Basically there's a family where a little boy ...  negative\n",
       "4  Petter Mattei's \"Love in the Time of Money\" is...  positive"
      ]
     },
     "execution_count": 19,
     "metadata": {},
     "output_type": "execute_result"
    }
   ],
   "source": [
    "df.head()"
   ]
  },
  {
   "cell_type": "code",
   "execution_count": 24,
   "id": "401bf3ad-853e-43d0-b845-f92f6facd5e9",
   "metadata": {},
   "outputs": [],
   "source": [
    "df['review'] = df['review'].str.lower()"
   ]
  },
  {
   "cell_type": "code",
   "execution_count": 26,
   "id": "4601b7bb-0500-4972-a51f-8b8c523588c0",
   "metadata": {},
   "outputs": [
    {
     "data": {
      "text/plain": [
       "\"basically there's a family where a little boy (jake) thinks there's a zombie in his closet & his parents are fighting all the time.<br /><br />this movie is slower than a soap opera... and suddenly, jake decides to become rambo and kill the zombie.<br /><br />ok, first of all when you're going to make a film you must decide if its a thriller or a drama! as a drama the movie is watchable. parents are divorcing & arguing like in real life. and then we have jake with his closet which totally ruins all the film! i expected to see a boogeyman similar movie, and instead i watched a drama with some meaningless thriller spots.<br /><br />3 out of 10 just for the well playing parents & descent dialogs. as for the shots with jake: just ignore them.\""
      ]
     },
     "execution_count": 26,
     "metadata": {},
     "output_type": "execute_result"
    }
   ],
   "source": [
    "df.review[3]"
   ]
  },
  {
   "cell_type": "markdown",
   "id": "97a3d133-9b7c-474e-9e12-583b9600a168",
   "metadata": {},
   "source": [
    "## HTML REMOVAL"
   ]
  },
  {
   "cell_type": "code",
   "execution_count": 43,
   "id": "5974c6ea-5524-44ef-ba5d-000b76dfe32c",
   "metadata": {},
   "outputs": [],
   "source": [
    "def removeHtml(text:str) -> str:\n",
    "    text = re.sub('<.*?/>', '', text)\n",
    "    return text"
   ]
  },
  {
   "cell_type": "code",
   "execution_count": 46,
   "id": "e46501aa-e282-4ad7-83e7-85c3d00ad84e",
   "metadata": {},
   "outputs": [
    {
     "data": {
      "text/plain": [
       "\"basically there's a family where a little boy (jake) thinks there's a zombie in his closet & his parents are fighting all the time.this movie is slower than a soap opera... and suddenly, jake decides to become rambo and kill the zombie.ok, first of all when you're going to make a film you must decide if its a thriller or a drama! as a drama the movie is watchable. parents are divorcing & arguing like in real life. and then we have jake with his closet which totally ruins all the film! i expected to see a boogeyman similar movie, and instead i watched a drama with some meaningless thriller spots.3 out of 10 just for the well playing parents & descent dialogs. as for the shots with jake: just ignore them.\""
      ]
     },
     "execution_count": 46,
     "metadata": {},
     "output_type": "execute_result"
    }
   ],
   "source": [
    "removeHtml(df.review[3])"
   ]
  },
  {
   "cell_type": "code",
   "execution_count": 49,
   "id": "ce6bf261-5dd4-49f2-84e3-94158d7e2028",
   "metadata": {},
   "outputs": [],
   "source": [
    "df['review'] = df['review'].apply(removeHtml)"
   ]
  },
  {
   "cell_type": "code",
   "execution_count": 50,
   "id": "df70e6f8-1f69-4b8b-ad6c-2c611f240b18",
   "metadata": {},
   "outputs": [
    {
     "data": {
      "text/plain": [
       "0        one of the other reviewers has mentioned that ...\n",
       "1        a wonderful little production. the filming tec...\n",
       "2        i thought this was a wonderful way to spend ti...\n",
       "3        basically there's a family where a little boy ...\n",
       "4        petter mattei's \"love in the time of money\" is...\n",
       "                               ...                        \n",
       "49995    i thought this movie did a down right good job...\n",
       "49996    bad plot, bad dialogue, bad acting, idiotic di...\n",
       "49997    i am a catholic taught in parochial elementary...\n",
       "49998    i'm going to have to disagree with the previou...\n",
       "49999    no one expects the star trek movies to be high...\n",
       "Name: review, Length: 50000, dtype: object"
      ]
     },
     "execution_count": 50,
     "metadata": {},
     "output_type": "execute_result"
    }
   ],
   "source": [
    "df.review"
   ]
  },
  {
   "cell_type": "code",
   "execution_count": 155,
   "id": "37056a17-82fc-4a81-928c-46cd0bcada3f",
   "metadata": {},
   "outputs": [],
   "source": [
    "text = \"for notebook click www://localhost:8888/notebooks/textPreprocessing.ipynb. we do not condemn anyone from this place. Therefore we do not account for them. \"\n",
    "\n"
   ]
  },
  {
   "cell_type": "markdown",
   "id": "8d35360c-126a-447c-b933-cc2f9f0232dd",
   "metadata": {},
   "source": [
    "## URL REMOVAL"
   ]
  },
  {
   "cell_type": "code",
   "execution_count": 158,
   "id": "5d9f7c6f-8e92-42da-b8cd-78327efdce4b",
   "metadata": {},
   "outputs": [],
   "source": [
    "def removeUrl(text):\n",
    "    pattern = re.compile(r'https\\S+|www\\S+|http\\S+')\n",
    "    text =  pattern.sub('', text)\n",
    "    return text"
   ]
  },
  {
   "cell_type": "code",
   "execution_count": 159,
   "id": "bda5a433-c6b1-4c2b-91ce-2ab4e827c3de",
   "metadata": {},
   "outputs": [
    {
     "data": {
      "text/plain": [
       "'for notebook click  we do not condemn anyone from this place. Therefore we do not account for them. '"
      ]
     },
     "execution_count": 159,
     "metadata": {},
     "output_type": "execute_result"
    }
   ],
   "source": [
    "removeUrl(text)"
   ]
  },
  {
   "cell_type": "markdown",
   "id": "5e6ee6bc-4d4c-48fb-b34f-68d4922b405c",
   "metadata": {},
   "source": [
    "## PUNCTUATION REMOVAL"
   ]
  },
  {
   "cell_type": "code",
   "execution_count": 209,
   "id": "b25d351a-b939-4823-9a16-26a1621ff10a",
   "metadata": {},
   "outputs": [
    {
     "name": "stdout",
     "output_type": "stream",
     "text": [
      "0.00016188621520996094\n"
     ]
    }
   ],
   "source": [
    "punctuation = \"\"\"|@#$%^&*!(){}],|:><';[\"\"\"\n",
    "def removePunctuation(text):\n",
    "    for char in punctuation:\n",
    "        text = text.replace(char, '')\n",
    "    return text\n",
    "start = time.time()\n",
    "removePunctuation('hi, there whas up! home[[];')\n",
    "print(time.time() - start)"
   ]
  },
  {
   "cell_type": "code",
   "execution_count": 251,
   "id": "d6873fe0-b229-46fb-9acd-4a5be8c2c873",
   "metadata": {},
   "outputs": [
    {
     "name": "stdout",
     "output_type": "stream",
     "text": [
      "hi their whas up home\n",
      "0.0043489933013916016\n"
     ]
    }
   ],
   "source": [
    "def remove_punc(text):\n",
    "    return text.translate(str.maketrans('','', string.punctuation))\n",
    "\n",
    "start = time.time()\n",
    "print(remove_punc('hi, their whas up! home[[];'))\n",
    "print(time.time() - start)"
   ]
  },
  {
   "cell_type": "code",
   "execution_count": 252,
   "id": "8cd37146-9eb8-439a-a2a5-778f94522bc0",
   "metadata": {},
   "outputs": [],
   "source": [
    "shorthand = {\n",
    "    \"asap\": \"as soon as possible\",\n",
    "    \"btw\": \"by the way\",\n",
    "    \"brb\": \"be right back\",\n",
    "    \"idk\": \"I don't know\",\n",
    "    \"ttyl\": \"talk to you later\",\n",
    "    \"omg\": \"oh my god\",\n",
    "    \"lol\": \"laugh out loud\",\n",
    "    \"lmao\": \"laughing my ass off\",\n",
    "    \"bff\": \"best friends forever\",\n",
    "    \"smh\": \"shaking my head\",\n",
    "    \"fyi\": \"for your information\",\n",
    "    \"np\": \"no problem\",\n",
    "    \"ttfn\": \"ta-ta for now\",\n",
    "    \"rofl\": \"rolling on the floor laughing\",\n",
    "    \"tbh\": \"to be honest\",\n",
    "    \"imo\": \"in my opinion\",\n",
    "    \"imho\": \"in my humble opinion\",\n",
    "    \"ppl\": \"people\",\n",
    "    \"gm\": \"good morning\",\n",
    "    \"gn\": \"good night\",\n",
    "    \"gtg\": \"got to go\",\n",
    "    \"yolo\": \"you only live once\",\n",
    "    \"fomo\": \"fear of missing out\",\n",
    "    \"nvm\": \"never mind\",\n",
    "    \"omw\": \"on my way\",\n",
    "    \"l8r\": \"later\",\n",
    "    \"wyd\": \"what you doing\",\n",
    "    \"b4\": \"before\",\n",
    "    \"cu\": \"see you\",\n",
    "    \"cya\": \"see you\",\n",
    "    \"gr8\": \"great\",\n",
    "    \"plz\": \"please\",\n",
    "    \"thx\": \"thanks\",\n",
    "    \"yw\": \"you're welcome\",\n",
    "    \"g2g\": \"got to go\",\n",
    "    \"xoxo\": \"hugs and kisses\",\n",
    "    \"wbu\": \"what about you\",\n",
    "    \"2moro\": \"tomorrow\",\n",
    "    \"k\": \"okay\",\n",
    "    \"glhf\": \"good luck, have fun\",\n",
    "    \"bbl\": \"be back later\",\n",
    "    \"btwn\": \"between\",\n",
    "    \"tmi\": \"too much information\",\n",
    "    \"ikr\": \"I know right\",\n",
    "    \"np\": \"no problem\",\n",
    "    \"m8\": \"mate\",\n",
    "    \"cmon\": \"come on\",\n",
    "    \"n1\": \"nice one\",\n",
    "    \"pplz\": \"people\",\n",
    "    \"pic\": \"picture\",\n",
    "    \"pls\": \"please\"\n",
    "}\n"
   ]
  },
  {
   "cell_type": "code",
   "execution_count": 253,
   "id": "d3acf78a-2bbf-414f-86c3-cf0df77b3b66",
   "metadata": {},
   "outputs": [],
   "source": [
    "text = '''Hey, I just got home! It was such a busy day, and I couldn't stop working. I'm so tired, but tbh, it was a productive day. LOL. I had a meeting with my team, and we talked about our project progress. SMH at how much we still have to do, though! Anyway, I had to rush to meet some friends, but I had to leave early because I had to gtg. Btw, have you heard about that new game? I heard it's gr8! I think I’ll try it out tomorrow. FYI, I’m planning to catch up on some sleep, but I might go out later. TTYL! Hope you have a good night, and don't forget to text me if you need anything. BFF, remember?'''\n",
    "\n"
   ]
  },
  {
   "cell_type": "markdown",
   "id": "7da2eee0-4bdb-4b77-bb44-b1272e47ecf9",
   "metadata": {},
   "source": [
    "## SHORTHAND REMOVAL"
   ]
  },
  {
   "cell_type": "code",
   "execution_count": 254,
   "id": "55a1cf6b-7b09-4c58-82fc-fa0f3c7e0265",
   "metadata": {},
   "outputs": [],
   "source": [
    "def chat_conversion(text):\n",
    "    li = []\n",
    "    text = remove_punc(text).lower()\n",
    "    for word in text.split():\n",
    "        if word in shorthand:\n",
    "            li.append(shorthand[word])\n",
    "        else:\n",
    "            li.append(word)\n",
    "    return li"
   ]
  },
  {
   "cell_type": "code",
   "execution_count": 256,
   "id": "1ae8513a-a5c4-4509-81a3-216ca1f4ccc2",
   "metadata": {},
   "outputs": [
    {
     "data": {
      "text/plain": [
       "['to be honest']"
      ]
     },
     "execution_count": 256,
     "metadata": {},
     "output_type": "execute_result"
    }
   ],
   "source": [
    "chat_conversion('TBH')"
   ]
  },
  {
   "cell_type": "code",
   "execution_count": 259,
   "id": "c6abcaf8-d4bc-48e4-b3a7-7d65d3fac4dd",
   "metadata": {},
   "outputs": [],
   "source": [
    "incorrect_text = \"I coudn't beleive how much fun we had at the park yesturday!\"\n",
    "\n"
   ]
  },
  {
   "cell_type": "code",
   "execution_count": 268,
   "id": "c64d864f-11a7-456e-b6f9-d4365fccb167",
   "metadata": {},
   "outputs": [
    {
     "data": {
      "text/plain": [
       "\"I couldn't believe how much fun we had at the park yesterday!\""
      ]
     },
     "execution_count": 268,
     "metadata": {},
     "output_type": "execute_result"
    }
   ],
   "source": [
    "textblob = TextBlob(incorrect_text)\n",
    "\n",
    "textblob.correct().string"
   ]
  },
  {
   "cell_type": "markdown",
   "id": "b4a6bd02-e3fe-48bb-89a8-bb1bce3acdb2",
   "metadata": {},
   "source": [
    "## STOPWORDS REMOVAL"
   ]
  },
  {
   "cell_type": "code",
   "execution_count": 305,
   "id": "ddfa8420-0ba8-499e-b6d4-e9895d42254e",
   "metadata": {},
   "outputs": [],
   "source": [
    "def stopwords_removal(text):\n",
    "    li = []\n",
    "    stops = stopwords.words('english')\n",
    "    for word in text.split():\n",
    "        if word in stops:\n",
    "            pass\n",
    "        else:\n",
    "            li.append(word)\n",
    "    return ' '.join(li)\n",
    "        "
   ]
  },
  {
   "cell_type": "code",
   "execution_count": 306,
   "id": "cf8601f4-53c8-4f90-8ee4-c8ab5ddcc0d8",
   "metadata": {},
   "outputs": [
    {
     "data": {
      "text/plain": [
       "\"basically there's family little boy (jake) thinks there's zombie closet & parents fighting time.this movie slower soap opera... suddenly, jake decides become rambo kill zombie.ok, first going make film must decide thriller drama! drama movie watchable. parents divorcing & arguing like real life. jake closet totally ruins film! expected see boogeyman similar movie, instead watched drama meaningless thriller spots.3 10 well playing parents & descent dialogs. shots jake: ignore them.\""
      ]
     },
     "execution_count": 306,
     "metadata": {},
     "output_type": "execute_result"
    }
   ],
   "source": [
    "stopwords_removal(df['review'][3])"
   ]
  },
  {
   "cell_type": "markdown",
   "id": "8eba42eb-8b9b-4806-a1cd-08218a52c42a",
   "metadata": {},
   "source": [
    "## EMOJI REMOVAL"
   ]
  },
  {
   "cell_type": "code",
   "execution_count": 384,
   "id": "5b7e7c50-f725-44a3-ac60-9164dac61636",
   "metadata": {},
   "outputs": [],
   "source": [
    "sentence = \"I’m feeling happy 😀😊, excited 🎉, and ready for an adventure 🌍. The weather is sunny 🌞, so I’m going to the beach 🏖️ with my friends 👯‍♀️. We’ll have some pizza 🍕, ice cream 🍦, and drinks 🍹. Afterward, I plan to relax 🛋️ and watch a movie 🎬.\"\n",
    "\n",
    "\n",
    "import re\n",
    "\n",
    "def remove_emoji(text):\n",
    "    emoji_pattern = re.compile('''[u\"\\U0001F600-\\U0001F64F\"u\"\\U0001F300-\\U0001F5FF\"u\"\\U0001F680-\\U0001F6FF\"u\"\\U0001F1E0-\\U0001F1FF\"u\"\\U00002702-\\U000027B0\"u\"\\U000024C2-\\U0001F251]+''', flags=re.UNICODE)\n",
    "    return emoji_pattern.sub(r'', text)"
   ]
  },
  {
   "cell_type": "code",
   "execution_count": 385,
   "id": "bdfa78d8-83b1-4268-a687-dc4418759956",
   "metadata": {},
   "outputs": [
    {
     "data": {
      "text/plain": [
       "'I’m feeling happy , excited , and ready for an adventre . The weather is snny , so I’m going to the beach  with my friends \\u200d. We’ll have some pizza , ice cream , and drinks . Afterward, I plan to relax  and watch a movie .'"
      ]
     },
     "execution_count": 385,
     "metadata": {},
     "output_type": "execute_result"
    }
   ],
   "source": [
    "remove_emoji(sentence)"
   ]
  },
  {
   "cell_type": "code",
   "execution_count": 388,
   "id": "bafb14cd-c978-40a4-8167-15eaec7d119f",
   "metadata": {},
   "outputs": [],
   "source": [
    "import emoji"
   ]
  },
  {
   "cell_type": "code",
   "execution_count": 390,
   "id": "355a7b4e-4c81-4384-9c9b-ca98242b26f7",
   "metadata": {},
   "outputs": [
    {
     "name": "stdout",
     "output_type": "stream",
     "text": [
      "I’m feeling happy :smiling_face_with_smiling_eyes:\n"
     ]
    }
   ],
   "source": [
    "print(emoji.demojize(\"I’m feeling happy 😊\"))"
   ]
  },
  {
   "cell_type": "markdown",
   "id": "146bb367-f2a0-460e-a5ba-c0e19d35e76a",
   "metadata": {},
   "source": [
    "## Tokenization"
   ]
  },
  {
   "cell_type": "code",
   "execution_count": 394,
   "id": "19c1163f-6d0a-4a79-8009-071bcdbd5399",
   "metadata": {},
   "outputs": [
    {
     "data": {
      "text/plain": [
       "['a',\n",
       " 'wonderful',\n",
       " 'little',\n",
       " 'production.',\n",
       " 'the',\n",
       " 'filming',\n",
       " 'technique',\n",
       " 'is',\n",
       " 'very',\n",
       " 'unassuming-',\n",
       " 'very',\n",
       " 'old-time-bbc',\n",
       " 'fashion',\n",
       " 'and',\n",
       " 'gives',\n",
       " 'a',\n",
       " 'comforting,',\n",
       " 'and',\n",
       " 'sometimes',\n",
       " 'discomforting,',\n",
       " 'sense',\n",
       " 'of',\n",
       " 'realism',\n",
       " 'to',\n",
       " 'the',\n",
       " 'entire',\n",
       " 'piece.',\n",
       " 'the',\n",
       " 'actors',\n",
       " 'are',\n",
       " 'extremely',\n",
       " 'well',\n",
       " 'chosen-',\n",
       " 'michael',\n",
       " 'sheen',\n",
       " 'not',\n",
       " 'only',\n",
       " '\"has',\n",
       " 'got',\n",
       " 'all',\n",
       " 'the',\n",
       " 'polari\"',\n",
       " 'but',\n",
       " 'he',\n",
       " 'has',\n",
       " 'all',\n",
       " 'the',\n",
       " 'voices',\n",
       " 'down',\n",
       " 'pat',\n",
       " 'too!',\n",
       " 'you',\n",
       " 'can',\n",
       " 'truly',\n",
       " 'see',\n",
       " 'the',\n",
       " 'seamless',\n",
       " 'editing',\n",
       " 'guided',\n",
       " 'by',\n",
       " 'the',\n",
       " 'references',\n",
       " 'to',\n",
       " \"williams'\",\n",
       " 'diary',\n",
       " 'entries,',\n",
       " 'not',\n",
       " 'only',\n",
       " 'is',\n",
       " 'it',\n",
       " 'well',\n",
       " 'worth',\n",
       " 'the',\n",
       " 'watching',\n",
       " 'but',\n",
       " 'it',\n",
       " 'is',\n",
       " 'a',\n",
       " 'terrificly',\n",
       " 'written',\n",
       " 'and',\n",
       " 'performed',\n",
       " 'piece.',\n",
       " 'a',\n",
       " 'masterful',\n",
       " 'production',\n",
       " 'about',\n",
       " 'one',\n",
       " 'of',\n",
       " 'the',\n",
       " 'great',\n",
       " \"master's\",\n",
       " 'of',\n",
       " 'comedy',\n",
       " 'and',\n",
       " 'his',\n",
       " 'life.',\n",
       " 'the',\n",
       " 'realism',\n",
       " 'really',\n",
       " 'comes',\n",
       " 'home',\n",
       " 'with',\n",
       " 'the',\n",
       " 'little',\n",
       " 'things:',\n",
       " 'the',\n",
       " 'fantasy',\n",
       " 'of',\n",
       " 'the',\n",
       " 'guard',\n",
       " 'which,',\n",
       " 'rather',\n",
       " 'than',\n",
       " 'use',\n",
       " 'the',\n",
       " 'traditional',\n",
       " \"'dream'\",\n",
       " 'techniques',\n",
       " 'remains',\n",
       " 'solid',\n",
       " 'then',\n",
       " 'disappears.',\n",
       " 'it',\n",
       " 'plays',\n",
       " 'on',\n",
       " 'our',\n",
       " 'knowledge',\n",
       " 'and',\n",
       " 'our',\n",
       " 'senses,',\n",
       " 'particularly',\n",
       " 'with',\n",
       " 'the',\n",
       " 'scenes',\n",
       " 'concerning',\n",
       " 'orton',\n",
       " 'and',\n",
       " 'halliwell',\n",
       " 'and',\n",
       " 'the',\n",
       " 'sets',\n",
       " '(particularly',\n",
       " 'of',\n",
       " 'their',\n",
       " 'flat',\n",
       " 'with',\n",
       " \"halliwell's\",\n",
       " 'murals',\n",
       " 'decorating',\n",
       " 'every',\n",
       " 'surface)',\n",
       " 'are',\n",
       " 'terribly',\n",
       " 'well',\n",
       " 'done.']"
      ]
     },
     "execution_count": 394,
     "metadata": {},
     "output_type": "execute_result"
    }
   ],
   "source": [
    "df['review'][1].split()\n"
   ]
  },
  {
   "cell_type": "code",
   "execution_count": 395,
   "id": "26617b9a-5e02-421c-b725-96dc111a4d58",
   "metadata": {},
   "outputs": [
    {
     "data": {
      "text/plain": [
       "['a wonderful little production',\n",
       " ' the filming technique is very unassuming- very old-time-bbc fashion and gives a comforting, and sometimes discomforting, sense of realism to the entire piece',\n",
       " ' the actors are extremely well chosen- michael sheen not only \"has got all the polari\" but he has all the voices down pat too! you can truly see the seamless editing guided by the references to williams\\' diary entries, not only is it well worth the watching but it is a terrificly written and performed piece',\n",
       " \" a masterful production about one of the great master's of comedy and his life\",\n",
       " \" the realism really comes home with the little things: the fantasy of the guard which, rather than use the traditional 'dream' techniques remains solid then disappears\",\n",
       " \" it plays on our knowledge and our senses, particularly with the scenes concerning orton and halliwell and the sets (particularly of their flat with halliwell's murals decorating every surface) are terribly well done\",\n",
       " '']"
      ]
     },
     "execution_count": 395,
     "metadata": {},
     "output_type": "execute_result"
    }
   ],
   "source": [
    "df.review[1].split('.')"
   ]
  },
  {
   "cell_type": "code",
   "execution_count": 407,
   "id": "f280660b-f240-4cdb-94cd-c1be2f9de5d5",
   "metadata": {},
   "outputs": [
    {
     "data": {
      "text/plain": [
       "['I', 'going', 'to', 'delhi']"
      ]
     },
     "execution_count": 407,
     "metadata": {},
     "output_type": "execute_result"
    }
   ],
   "source": [
    "sent = 'I going to delhi!'\n",
    "\n",
    "re.findall(r\"[\\w]+\", sent)"
   ]
  },
  {
   "cell_type": "code",
   "execution_count": 410,
   "id": "b50e9595-5a50-45a8-b00d-f76ff4503e22",
   "metadata": {},
   "outputs": [
    {
     "data": {
      "text/plain": [
       "['I', 'going', 'to', 'delhi', '!']"
      ]
     },
     "execution_count": 410,
     "metadata": {},
     "output_type": "execute_result"
    }
   ],
   "source": [
    "word_tokenize(sent)"
   ]
  },
  {
   "cell_type": "code",
   "execution_count": null,
   "id": "26260fc4-1e22-4186-b665-0415a977c9f2",
   "metadata": {},
   "outputs": [],
   "source": []
  }
 ],
 "metadata": {
  "kernelspec": {
   "display_name": "Python (NLP)",
   "language": "python",
   "name": "nlp"
  },
  "language_info": {
   "codemirror_mode": {
    "name": "ipython",
    "version": 3
   },
   "file_extension": ".py",
   "mimetype": "text/x-python",
   "name": "python",
   "nbconvert_exporter": "python",
   "pygments_lexer": "ipython3",
   "version": "3.12.4"
  }
 },
 "nbformat": 4,
 "nbformat_minor": 5
}
