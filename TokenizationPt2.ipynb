{
 "cells": [
  {
   "cell_type": "code",
   "execution_count": 3,
   "id": "8de707bf-8b39-4def-8f07-d8b5a1137a6e",
   "metadata": {},
   "outputs": [],
   "source": [
    "from sklearn.feature_extraction.text import CountVectorizer\n",
    "import pandas as pd\n",
    "import numpy as np"
   ]
  },
  {
   "cell_type": "code",
   "execution_count": 64,
   "id": "fb54780b-e520-499c-9fe9-485f007f0d99",
   "metadata": {},
   "outputs": [],
   "source": [
    "df = pd.DataFrame({'text':\n",
    "            ['people watch campusx', \n",
    "             'campusx watch campusx', \n",
    "             'people write comment', \n",
    "             'campusx write comment'], \n",
    "                   'output':[1,1,0,0]})"
   ]
  },
  {
   "cell_type": "code",
   "execution_count": 65,
   "id": "c5449eb6-764e-45ee-b2d1-61671fe7cf14",
   "metadata": {},
   "outputs": [
    {
     "data": {
      "text/html": [
       "<div>\n",
       "<style scoped>\n",
       "    .dataframe tbody tr th:only-of-type {\n",
       "        vertical-align: middle;\n",
       "    }\n",
       "\n",
       "    .dataframe tbody tr th {\n",
       "        vertical-align: top;\n",
       "    }\n",
       "\n",
       "    .dataframe thead th {\n",
       "        text-align: right;\n",
       "    }\n",
       "</style>\n",
       "<table border=\"1\" class=\"dataframe\">\n",
       "  <thead>\n",
       "    <tr style=\"text-align: right;\">\n",
       "      <th></th>\n",
       "      <th>text</th>\n",
       "      <th>output</th>\n",
       "    </tr>\n",
       "  </thead>\n",
       "  <tbody>\n",
       "    <tr>\n",
       "      <th>0</th>\n",
       "      <td>people watch campusx</td>\n",
       "      <td>1</td>\n",
       "    </tr>\n",
       "    <tr>\n",
       "      <th>1</th>\n",
       "      <td>campusx watch campusx</td>\n",
       "      <td>1</td>\n",
       "    </tr>\n",
       "    <tr>\n",
       "      <th>2</th>\n",
       "      <td>people write comment</td>\n",
       "      <td>0</td>\n",
       "    </tr>\n",
       "    <tr>\n",
       "      <th>3</th>\n",
       "      <td>campusx write comment</td>\n",
       "      <td>0</td>\n",
       "    </tr>\n",
       "  </tbody>\n",
       "</table>\n",
       "</div>"
      ],
      "text/plain": [
       "                    text  output\n",
       "0   people watch campusx       1\n",
       "1  campusx watch campusx       1\n",
       "2   people write comment       0\n",
       "3  campusx write comment       0"
      ]
     },
     "execution_count": 65,
     "metadata": {},
     "output_type": "execute_result"
    }
   ],
   "source": [
    "df"
   ]
  },
  {
   "cell_type": "code",
   "execution_count": 44,
   "id": "22f3df0a-d26d-4659-9679-9bcb4999cde9",
   "metadata": {},
   "outputs": [],
   "source": [
    "cv = CountVectorizer()"
   ]
  },
  {
   "cell_type": "code",
   "execution_count": 45,
   "id": "37ec7522-6e95-497e-9a4c-5aa5120b93e7",
   "metadata": {},
   "outputs": [],
   "source": [
    "bow = cv.fit_transform(df['text'])"
   ]
  },
  {
   "cell_type": "code",
   "execution_count": 46,
   "id": "3ed7d5b3-9b01-4b77-b93c-ffae0e00ba85",
   "metadata": {},
   "outputs": [
    {
     "data": {
      "text/plain": [
       "{'people': 2, 'watch': 3, 'campusx': 0, 'write': 4, 'comment': 1}"
      ]
     },
     "execution_count": 46,
     "metadata": {},
     "output_type": "execute_result"
    }
   ],
   "source": [
    "cv.vocabulary_"
   ]
  },
  {
   "cell_type": "code",
   "execution_count": 66,
   "id": "dcfbd773-7527-4050-ad17-0a37a1e60650",
   "metadata": {},
   "outputs": [],
   "source": [
    "vocabulary = sorted(cv.vocabulary_, \n",
    "                    key=lambda x: cv.vocabulary_[x])"
   ]
  },
  {
   "cell_type": "code",
   "execution_count": 48,
   "id": "2d018d4d-9e75-4fc8-8be4-13fc94287998",
   "metadata": {},
   "outputs": [
    {
     "data": {
      "text/plain": [
       "['campusx', 'comment', 'people', 'watch', 'write']"
      ]
     },
     "execution_count": 48,
     "metadata": {},
     "output_type": "execute_result"
    }
   ],
   "source": [
    "vocabulary"
   ]
  },
  {
   "cell_type": "code",
   "execution_count": 49,
   "id": "06ce37fe-3c93-47b3-ad59-4ba9626e4fc0",
   "metadata": {},
   "outputs": [
    {
     "data": {
      "text/plain": [
       "array([[1, 0, 1, 1, 0],\n",
       "       [2, 0, 0, 1, 0],\n",
       "       [0, 1, 1, 0, 1],\n",
       "       [1, 1, 0, 0, 1]])"
      ]
     },
     "execution_count": 49,
     "metadata": {},
     "output_type": "execute_result"
    }
   ],
   "source": [
    "bow.toarray()"
   ]
  },
  {
   "cell_type": "code",
   "execution_count": 50,
   "id": "f69f675d-256c-4062-bc3f-93f7de0a9c51",
   "metadata": {},
   "outputs": [
    {
     "data": {
      "text/plain": [
       "array([1, 0, 1, 1, 0])"
      ]
     },
     "execution_count": 50,
     "metadata": {},
     "output_type": "execute_result"
    }
   ],
   "source": [
    "bow.toarray()[0] # people watch campusx "
   ]
  },
  {
   "cell_type": "code",
   "execution_count": 68,
   "id": "0f8be7fd-3bcc-4c2f-9e65-d8d12a212ffb",
   "metadata": {},
   "outputs": [],
   "source": [
    "bow = cv.fit_transform([\"\"\"hello mamma ooo you \n",
    "                        can\\'t tell me you don\\'t wanna \n",
    "                        go up there for so long you whooooooooo\"\"\"])"
   ]
  },
  {
   "cell_type": "code",
   "execution_count": 69,
   "id": "6cb61f17-e9d7-4670-8544-10bf955f8ea6",
   "metadata": {},
   "outputs": [
    {
     "data": {
      "text/plain": [
       "{'hello': 4,\n",
       " 'mamma': 6,\n",
       " 'ooo': 8,\n",
       " 'you': 15,\n",
       " 'can': 0,\n",
       " 'tell': 10,\n",
       " 'me': 7,\n",
       " 'don': 1,\n",
       " 'wanna': 13,\n",
       " 'go': 3,\n",
       " 'up': 12,\n",
       " 'there': 11,\n",
       " 'for': 2,\n",
       " 'so': 9,\n",
       " 'long': 5,\n",
       " 'whooooooooo': 14}"
      ]
     },
     "execution_count": 69,
     "metadata": {},
     "output_type": "execute_result"
    }
   ],
   "source": [
    "cv.vocabulary_"
   ]
  },
  {
   "cell_type": "code",
   "execution_count": 70,
   "id": "35ae4b41-79f4-4d37-a99d-45b30d720359",
   "metadata": {},
   "outputs": [
    {
     "data": {
      "text/plain": [
       "array([[1, 1, 1, 0, 0, 0, 0, 1, 0, 1, 0, 0, 1, 1, 0, 1]])"
      ]
     },
     "execution_count": 70,
     "metadata": {},
     "output_type": "execute_result"
    }
   ],
   "source": [
    "cv.transform([\"\"\"you mama what up hommie my \n",
    "                man for real yoo what up oooo you \n",
    "              can tel me don wanna for so logn wuhoooooooo\"\"\"]).toarray()"
   ]
  },
  {
   "cell_type": "code",
   "execution_count": 54,
   "id": "b1e9b81b-c4aa-40ea-b3dd-4f4006644348",
   "metadata": {},
   "outputs": [],
   "source": [
    "cv = CountVectorizer(binary=True)"
   ]
  },
  {
   "cell_type": "code",
   "execution_count": 71,
   "id": "e142bf97-0147-45f2-81be-120c6e4f9713",
   "metadata": {},
   "outputs": [],
   "source": [
    "bow = cv.fit_transform([\"\"\"playful joyful enjoy cry noise work \n",
    "                        dedication\"\"\"])"
   ]
  },
  {
   "cell_type": "code",
   "execution_count": 58,
   "id": "72c51e01-dd58-4e63-bb0d-22a671627afb",
   "metadata": {},
   "outputs": [
    {
     "data": {
      "text/plain": [
       "array([[1, 1, 1, 1, 1, 1, 1]])"
      ]
     },
     "execution_count": 58,
     "metadata": {},
     "output_type": "execute_result"
    }
   ],
   "source": [
    "bow.toarray()"
   ]
  },
  {
   "cell_type": "markdown",
   "id": "2c0f3d49-6641-49d1-a78e-1859c0ba80fd",
   "metadata": {},
   "source": [
    "### max-features hyperparamer is considered across the corpus. \n",
    "### That is, only the most occurring item is considered, \n",
    "### rest of the elements in the sentence are ignored."
   ]
  },
  {
   "cell_type": "code",
   "execution_count": null,
   "id": "4baa6cbc-93f1-4269-8c8c-2a790eebc1b0",
   "metadata": {},
   "outputs": [],
   "source": []
  },
  {
   "cell_type": "code",
   "execution_count": null,
   "id": "f7ad7e35-64e7-4af1-8726-f84b26f7a7d4",
   "metadata": {},
   "outputs": [],
   "source": []
  }
 ],
 "metadata": {
  "kernelspec": {
   "display_name": "Python (NLP)",
   "language": "python",
   "name": "nlp"
  },
  "language_info": {
   "codemirror_mode": {
    "name": "ipython",
    "version": 3
   },
   "file_extension": ".py",
   "mimetype": "text/x-python",
   "name": "python",
   "nbconvert_exporter": "python",
   "pygments_lexer": "ipython3",
   "version": "3.12.4"
  }
 },
 "nbformat": 4,
 "nbformat_minor": 5
}
