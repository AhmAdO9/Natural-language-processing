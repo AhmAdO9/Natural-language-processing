{
 "cells": [
  {
   "cell_type": "code",
   "execution_count": 1,
   "id": "80e57efe-813b-4746-a32f-01d475518b42",
   "metadata": {},
   "outputs": [],
   "source": [
    "from sklearn.feature_extraction.text import CountVectorizer\n",
    "import pandas as pd\n",
    "import numpy as np"
   ]
  },
  {
   "cell_type": "code",
   "execution_count": 2,
   "id": "0ab422da-3fb0-4fc4-ac7f-c784e367a666",
   "metadata": {},
   "outputs": [],
   "source": [
    "df = pd.DataFrame({'text':\n",
    "            ['people watch campusx', \n",
    "             'campusx watch campusx', \n",
    "             'people write comment', \n",
    "             'campusx write comment'], \n",
    "                   'output':[1,1,0,0]})"
   ]
  },
  {
   "cell_type": "code",
   "execution_count": 13,
   "id": "b53eb9e6-baf8-44ac-8800-b3f33cb1c4c6",
   "metadata": {},
   "outputs": [],
   "source": [
    "cv = CountVectorizer(ngram_range=(1,3))"
   ]
  },
  {
   "cell_type": "code",
   "execution_count": 14,
   "id": "12dbfe13-8a90-4e93-9c12-207f672579ec",
   "metadata": {},
   "outputs": [],
   "source": [
    "bow = cv.fit_transform(df['text'])"
   ]
  },
  {
   "cell_type": "code",
   "execution_count": 15,
   "id": "978ede5d-4718-4a77-b11d-59d5a2333c31",
   "metadata": {},
   "outputs": [
    {
     "data": {
      "text/plain": [
       "{'people': 6,\n",
       " 'watch': 11,\n",
       " 'campusx': 0,\n",
       " 'people watch': 7,\n",
       " 'watch campusx': 12,\n",
       " 'people watch campusx': 8,\n",
       " 'campusx watch': 1,\n",
       " 'campusx watch campusx': 2,\n",
       " 'write': 13,\n",
       " 'comment': 5,\n",
       " 'people write': 9,\n",
       " 'write comment': 14,\n",
       " 'people write comment': 10,\n",
       " 'campusx write': 3,\n",
       " 'campusx write comment': 4}"
      ]
     },
     "execution_count": 15,
     "metadata": {},
     "output_type": "execute_result"
    }
   ],
   "source": [
    "cv.vocabulary_"
   ]
  },
  {
   "cell_type": "code",
   "execution_count": 16,
   "id": "537853b0-dcda-42e5-925c-a2a705d2c2db",
   "metadata": {},
   "outputs": [
    {
     "data": {
      "text/plain": [
       "array([1, 0, 0, 0, 0, 0, 1, 1, 1, 0, 0, 1, 1, 0, 0])"
      ]
     },
     "execution_count": 16,
     "metadata": {},
     "output_type": "execute_result"
    }
   ],
   "source": [
    "bow.toarray()[0]"
   ]
  },
  {
   "cell_type": "code",
   "execution_count": null,
   "id": "628c1680-e9af-4cad-b2dc-dd6b4ade94c9",
   "metadata": {},
   "outputs": [],
   "source": []
  }
 ],
 "metadata": {
  "kernelspec": {
   "display_name": "Python (NLP)",
   "language": "python",
   "name": "nlp"
  },
  "language_info": {
   "codemirror_mode": {
    "name": "ipython",
    "version": 3
   },
   "file_extension": ".py",
   "mimetype": "text/x-python",
   "name": "python",
   "nbconvert_exporter": "python",
   "pygments_lexer": "ipython3",
   "version": "3.12.4"
  }
 },
 "nbformat": 4,
 "nbformat_minor": 5
}
